{
 "cells": [
  {
   "cell_type": "code",
   "execution_count": 57,
   "id": "55b897f7",
   "metadata": {
    "execution": {
     "iopub.execute_input": "2025-03-06T16:44:45.761539Z",
     "iopub.status.busy": "2025-03-06T16:44:45.761112Z",
     "iopub.status.idle": "2025-03-06T16:44:49.888642Z",
     "shell.execute_reply": "2025-03-06T16:44:49.887348Z"
    },
    "papermill": {
     "duration": 4.136284,
     "end_time": "2025-03-06T16:44:49.890414",
     "exception": false,
     "start_time": "2025-03-06T16:44:45.754130",
     "status": "completed"
    },
    "tags": []
   },
   "outputs": [
    {
     "name": "stderr",
     "output_type": "stream",
     "text": [
      "[nltk_data] Downloading package stopwords to C:\\Users\\SAURABH\n",
      "[nltk_data]     VAJE\\AppData\\Roaming\\nltk_data...\n",
      "[nltk_data]   Package stopwords is already up-to-date!\n"
     ]
    }
   ],
   "source": [
    "import numpy as np\n",
    "import pandas as  pd\n",
    "import matplotlib.pyplot as plt\n",
    "import seaborn as sns\n",
    "import re\n",
    "\n",
    "from sklearn.preprocessing import LabelEncoder , StandardScaler \n",
    "from sklearn.model_selection import train_test_split\n",
    "from sklearn.linear_model import LogisticRegression\n",
    "from sklearn.metrics import accuracy_score , confusion_matrix\n",
    "from nltk.corpus import stopwords\n",
    "from nltk.stem.porter import PorterStemmer\n",
    "from sklearn.feature_extraction.text import TfidfVectorizer\n",
    "import nltk\n",
    "nltk.download('stopwords')\n",
    "import warnings\n",
    "warnings.filterwarnings('ignore')"
   ]
  },
  {
   "cell_type": "code",
   "execution_count": 58,
   "id": "7cce25cf",
   "metadata": {
    "execution": {
     "iopub.execute_input": "2025-03-06T16:44:49.902153Z",
     "iopub.status.busy": "2025-03-06T16:44:49.901679Z",
     "iopub.status.idle": "2025-03-06T16:44:53.634648Z",
     "shell.execute_reply": "2025-03-06T16:44:53.633716Z"
    },
    "papermill": {
     "duration": 3.740881,
     "end_time": "2025-03-06T16:44:53.636450",
     "exception": false,
     "start_time": "2025-03-06T16:44:49.895569",
     "status": "completed"
    },
    "tags": []
   },
   "outputs": [],
   "source": [
    "df_train = pd.read_csv('train.csv')\n",
    "df_test = pd.read_csv('test.csv')"
   ]
  },
  {
   "cell_type": "code",
   "execution_count": 59,
   "id": "a996f52d",
   "metadata": {
    "execution": {
     "iopub.execute_input": "2025-03-06T16:44:53.647437Z",
     "iopub.status.busy": "2025-03-06T16:44:53.647031Z",
     "iopub.status.idle": "2025-03-06T16:44:53.672534Z",
     "shell.execute_reply": "2025-03-06T16:44:53.671558Z"
    },
    "papermill": {
     "duration": 0.032684,
     "end_time": "2025-03-06T16:44:53.674157",
     "exception": false,
     "start_time": "2025-03-06T16:44:53.641473",
     "status": "completed"
    },
    "tags": []
   },
   "outputs": [
    {
     "data": {
      "text/html": [
       "<div>\n",
       "<style scoped>\n",
       "    .dataframe tbody tr th:only-of-type {\n",
       "        vertical-align: middle;\n",
       "    }\n",
       "\n",
       "    .dataframe tbody tr th {\n",
       "        vertical-align: top;\n",
       "    }\n",
       "\n",
       "    .dataframe thead th {\n",
       "        text-align: right;\n",
       "    }\n",
       "</style>\n",
       "<table border=\"1\" class=\"dataframe\">\n",
       "  <thead>\n",
       "    <tr style=\"text-align: right;\">\n",
       "      <th></th>\n",
       "      <th>id</th>\n",
       "      <th>title</th>\n",
       "      <th>author</th>\n",
       "      <th>text</th>\n",
       "      <th>label</th>\n",
       "    </tr>\n",
       "  </thead>\n",
       "  <tbody>\n",
       "    <tr>\n",
       "      <th>0</th>\n",
       "      <td>0</td>\n",
       "      <td>House Dem Aide: We Didn’t Even See Comey’s Let...</td>\n",
       "      <td>Darrell Lucus</td>\n",
       "      <td>House Dem Aide: We Didn’t Even See Comey’s Let...</td>\n",
       "      <td>1</td>\n",
       "    </tr>\n",
       "    <tr>\n",
       "      <th>1</th>\n",
       "      <td>1</td>\n",
       "      <td>FLYNN: Hillary Clinton, Big Woman on Campus - ...</td>\n",
       "      <td>Daniel J. Flynn</td>\n",
       "      <td>Ever get the feeling your life circles the rou...</td>\n",
       "      <td>0</td>\n",
       "    </tr>\n",
       "    <tr>\n",
       "      <th>2</th>\n",
       "      <td>2</td>\n",
       "      <td>Why the Truth Might Get You Fired</td>\n",
       "      <td>Consortiumnews.com</td>\n",
       "      <td>Why the Truth Might Get You Fired October 29, ...</td>\n",
       "      <td>1</td>\n",
       "    </tr>\n",
       "    <tr>\n",
       "      <th>3</th>\n",
       "      <td>3</td>\n",
       "      <td>15 Civilians Killed In Single US Airstrike Hav...</td>\n",
       "      <td>Jessica Purkiss</td>\n",
       "      <td>Videos 15 Civilians Killed In Single US Airstr...</td>\n",
       "      <td>1</td>\n",
       "    </tr>\n",
       "    <tr>\n",
       "      <th>4</th>\n",
       "      <td>4</td>\n",
       "      <td>Iranian woman jailed for fictional unpublished...</td>\n",
       "      <td>Howard Portnoy</td>\n",
       "      <td>Print \\nAn Iranian woman has been sentenced to...</td>\n",
       "      <td>1</td>\n",
       "    </tr>\n",
       "  </tbody>\n",
       "</table>\n",
       "</div>"
      ],
      "text/plain": [
       "   id                                              title              author  \\\n",
       "0   0  House Dem Aide: We Didn’t Even See Comey’s Let...       Darrell Lucus   \n",
       "1   1  FLYNN: Hillary Clinton, Big Woman on Campus - ...     Daniel J. Flynn   \n",
       "2   2                  Why the Truth Might Get You Fired  Consortiumnews.com   \n",
       "3   3  15 Civilians Killed In Single US Airstrike Hav...     Jessica Purkiss   \n",
       "4   4  Iranian woman jailed for fictional unpublished...      Howard Portnoy   \n",
       "\n",
       "                                                text  label  \n",
       "0  House Dem Aide: We Didn’t Even See Comey’s Let...      1  \n",
       "1  Ever get the feeling your life circles the rou...      0  \n",
       "2  Why the Truth Might Get You Fired October 29, ...      1  \n",
       "3  Videos 15 Civilians Killed In Single US Airstr...      1  \n",
       "4  Print \\nAn Iranian woman has been sentenced to...      1  "
      ]
     },
     "execution_count": 59,
     "metadata": {},
     "output_type": "execute_result"
    }
   ],
   "source": [
    "df_train.head()"
   ]
  },
  {
   "cell_type": "code",
   "execution_count": 60,
   "id": "f946d95a",
   "metadata": {
    "execution": {
     "iopub.execute_input": "2025-03-06T16:44:53.685423Z",
     "iopub.status.busy": "2025-03-06T16:44:53.685068Z",
     "iopub.status.idle": "2025-03-06T16:44:53.688631Z",
     "shell.execute_reply": "2025-03-06T16:44:53.687707Z"
    },
    "papermill": {
     "duration": 0.010733,
     "end_time": "2025-03-06T16:44:53.690122",
     "exception": false,
     "start_time": "2025-03-06T16:44:53.679389",
     "status": "completed"
    },
    "tags": []
   },
   "outputs": [],
   "source": [
    "# target columns label"
   ]
  },
  {
   "cell_type": "code",
   "execution_count": 61,
   "id": "08b0ee6e",
   "metadata": {
    "execution": {
     "iopub.execute_input": "2025-03-06T16:44:53.701452Z",
     "iopub.status.busy": "2025-03-06T16:44:53.701076Z",
     "iopub.status.idle": "2025-03-06T16:44:53.732282Z",
     "shell.execute_reply": "2025-03-06T16:44:53.731113Z"
    },
    "papermill": {
     "duration": 0.038768,
     "end_time": "2025-03-06T16:44:53.733990",
     "exception": false,
     "start_time": "2025-03-06T16:44:53.695222",
     "status": "completed"
    },
    "scrolled": true,
    "tags": []
   },
   "outputs": [
    {
     "name": "stdout",
     "output_type": "stream",
     "text": [
      "<class 'pandas.core.frame.DataFrame'>\n",
      "RangeIndex: 20800 entries, 0 to 20799\n",
      "Data columns (total 5 columns):\n",
      " #   Column  Non-Null Count  Dtype \n",
      "---  ------  --------------  ----- \n",
      " 0   id      20800 non-null  int64 \n",
      " 1   title   20242 non-null  object\n",
      " 2   author  18843 non-null  object\n",
      " 3   text    20761 non-null  object\n",
      " 4   label   20800 non-null  int64 \n",
      "dtypes: int64(2), object(3)\n",
      "memory usage: 812.6+ KB\n"
     ]
    }
   ],
   "source": [
    "df_train.info()"
   ]
  },
  {
   "cell_type": "markdown",
   "id": "bd91edad",
   "metadata": {
    "papermill": {
     "duration": 0.00469,
     "end_time": "2025-03-06T16:44:53.743789",
     "exception": false,
     "start_time": "2025-03-06T16:44:53.739099",
     "status": "completed"
    },
    "tags": []
   },
   "source": [
    "data type \n",
    "- numerical(id, label)\n",
    "- tex ( title, author, text)"
   ]
  },
  {
   "cell_type": "code",
   "execution_count": 62,
   "id": "a3f2671c",
   "metadata": {
    "execution": {
     "iopub.execute_input": "2025-03-06T16:44:53.754904Z",
     "iopub.status.busy": "2025-03-06T16:44:53.754573Z",
     "iopub.status.idle": "2025-03-06T16:44:53.760000Z",
     "shell.execute_reply": "2025-03-06T16:44:53.759153Z"
    },
    "papermill": {
     "duration": 0.012673,
     "end_time": "2025-03-06T16:44:53.761445",
     "exception": false,
     "start_time": "2025-03-06T16:44:53.748772",
     "status": "completed"
    },
    "tags": []
   },
   "outputs": [
    {
     "data": {
      "text/plain": [
       "(20800, 5)"
      ]
     },
     "execution_count": 62,
     "metadata": {},
     "output_type": "execute_result"
    }
   ],
   "source": [
    "df_train.shape"
   ]
  },
  {
   "cell_type": "code",
   "execution_count": 63,
   "id": "5c88485f",
   "metadata": {
    "execution": {
     "iopub.execute_input": "2025-03-06T16:44:53.772870Z",
     "iopub.status.busy": "2025-03-06T16:44:53.772548Z",
     "iopub.status.idle": "2025-03-06T16:44:53.785126Z",
     "shell.execute_reply": "2025-03-06T16:44:53.784303Z"
    },
    "papermill": {
     "duration": 0.019996,
     "end_time": "2025-03-06T16:44:53.786643",
     "exception": false,
     "start_time": "2025-03-06T16:44:53.766647",
     "status": "completed"
    },
    "tags": []
   },
   "outputs": [
    {
     "data": {
      "text/plain": [
       "id           0\n",
       "title      558\n",
       "author    1957\n",
       "text        39\n",
       "label        0\n",
       "dtype: int64"
      ]
     },
     "execution_count": 63,
     "metadata": {},
     "output_type": "execute_result"
    }
   ],
   "source": [
    "df_train.isnull().sum()"
   ]
  },
  {
   "cell_type": "code",
   "execution_count": 64,
   "id": "26bbe948",
   "metadata": {
    "execution": {
     "iopub.execute_input": "2025-03-06T16:44:53.798225Z",
     "iopub.status.busy": "2025-03-06T16:44:53.797912Z",
     "iopub.status.idle": "2025-03-06T16:44:53.812503Z",
     "shell.execute_reply": "2025-03-06T16:44:53.811681Z"
    },
    "papermill": {
     "duration": 0.02219,
     "end_time": "2025-03-06T16:44:53.814140",
     "exception": false,
     "start_time": "2025-03-06T16:44:53.791950",
     "status": "completed"
    },
    "tags": []
   },
   "outputs": [],
   "source": [
    "df_train['title'] = df_train['title'].fillna(\"\")\n",
    "df_train['text'] = df_train['text'].fillna(\"\")"
   ]
  },
  {
   "cell_type": "code",
   "execution_count": 65,
   "id": "7042870e",
   "metadata": {
    "execution": {
     "iopub.execute_input": "2025-03-06T16:44:53.826469Z",
     "iopub.status.busy": "2025-03-06T16:44:53.826107Z",
     "iopub.status.idle": "2025-03-06T16:44:53.833207Z",
     "shell.execute_reply": "2025-03-06T16:44:53.832241Z"
    },
    "papermill": {
     "duration": 0.014857,
     "end_time": "2025-03-06T16:44:53.834704",
     "exception": false,
     "start_time": "2025-03-06T16:44:53.819847",
     "status": "completed"
    },
    "tags": []
   },
   "outputs": [],
   "source": [
    "df_train['author'] = df_train['author'].fillna(\"Unknown\")"
   ]
  },
  {
   "cell_type": "code",
   "execution_count": 66,
   "id": "e1e9535b",
   "metadata": {
    "execution": {
     "iopub.execute_input": "2025-03-06T16:44:53.847047Z",
     "iopub.status.busy": "2025-03-06T16:44:53.846715Z",
     "iopub.status.idle": "2025-03-06T16:44:53.854464Z",
     "shell.execute_reply": "2025-03-06T16:44:53.853458Z"
    },
    "papermill": {
     "duration": 0.015838,
     "end_time": "2025-03-06T16:44:53.856051",
     "exception": false,
     "start_time": "2025-03-06T16:44:53.840213",
     "status": "completed"
    },
    "tags": []
   },
   "outputs": [
    {
     "data": {
      "text/plain": [
       "array(['Darrell Lucus', 'Daniel J. Flynn', 'Consortiumnews.com', ...,\n",
       "       'D. Samuelson', 'Judge Andrew Napolitano',\n",
       "       'Michael J. de la Merced and Rachel Abrams'], dtype=object)"
      ]
     },
     "execution_count": 66,
     "metadata": {},
     "output_type": "execute_result"
    }
   ],
   "source": [
    "df_train['author'].unique()"
   ]
  },
  {
   "cell_type": "code",
   "execution_count": 67,
   "id": "2512348a",
   "metadata": {
    "execution": {
     "iopub.execute_input": "2025-03-06T16:44:53.868754Z",
     "iopub.status.busy": "2025-03-06T16:44:53.868313Z",
     "iopub.status.idle": "2025-03-06T16:44:53.881842Z",
     "shell.execute_reply": "2025-03-06T16:44:53.880762Z"
    },
    "papermill": {
     "duration": 0.021415,
     "end_time": "2025-03-06T16:44:53.883311",
     "exception": false,
     "start_time": "2025-03-06T16:44:53.861896",
     "status": "completed"
    },
    "tags": []
   },
   "outputs": [
    {
     "data": {
      "text/plain": [
       "id        0\n",
       "title     0\n",
       "author    0\n",
       "text      0\n",
       "label     0\n",
       "dtype: int64"
      ]
     },
     "execution_count": 67,
     "metadata": {},
     "output_type": "execute_result"
    }
   ],
   "source": [
    "df_train.isnull().sum()"
   ]
  },
  {
   "cell_type": "code",
   "execution_count": 68,
   "id": "f4c8af43",
   "metadata": {
    "execution": {
     "iopub.execute_input": "2025-03-06T16:44:53.896249Z",
     "iopub.status.busy": "2025-03-06T16:44:53.895924Z",
     "iopub.status.idle": "2025-03-06T16:44:53.910312Z",
     "shell.execute_reply": "2025-03-06T16:44:53.909301Z"
    },
    "papermill": {
     "duration": 0.022902,
     "end_time": "2025-03-06T16:44:53.912086",
     "exception": false,
     "start_time": "2025-03-06T16:44:53.889184",
     "status": "completed"
    },
    "tags": []
   },
   "outputs": [],
   "source": [
    "# merging the author name and news title\n",
    "df_train['content'] = df_train['author']+' '+df_train['title']"
   ]
  },
  {
   "cell_type": "code",
   "execution_count": 69,
   "id": "0db89ebc",
   "metadata": {
    "execution": {
     "iopub.execute_input": "2025-03-06T16:44:53.925220Z",
     "iopub.status.busy": "2025-03-06T16:44:53.924863Z",
     "iopub.status.idle": "2025-03-06T16:44:53.937477Z",
     "shell.execute_reply": "2025-03-06T16:44:53.936404Z"
    },
    "papermill": {
     "duration": 0.021022,
     "end_time": "2025-03-06T16:44:53.939095",
     "exception": false,
     "start_time": "2025-03-06T16:44:53.918073",
     "status": "completed"
    },
    "tags": []
   },
   "outputs": [],
   "source": [
    "# Preprocess test data to match training\n",
    "df_test['title'] = df_test['title'].fillna(\"\")\n",
    "df_test['author'] = df_test['author'].fillna(\"Unknown\")\n",
    "df_test['text'] = df_test['text'].fillna(\"\")\n",
    "df_test['content'] = df_test['author'] + ' ' + df_test['title']"
   ]
  },
  {
   "cell_type": "code",
   "execution_count": 70,
   "id": "187225b4",
   "metadata": {
    "execution": {
     "iopub.execute_input": "2025-03-06T16:44:53.952255Z",
     "iopub.status.busy": "2025-03-06T16:44:53.951905Z",
     "iopub.status.idle": "2025-03-06T16:44:53.958506Z",
     "shell.execute_reply": "2025-03-06T16:44:53.957559Z"
    },
    "papermill": {
     "duration": 0.015133,
     "end_time": "2025-03-06T16:44:53.960130",
     "exception": false,
     "start_time": "2025-03-06T16:44:53.944997",
     "status": "completed"
    },
    "tags": []
   },
   "outputs": [
    {
     "data": {
      "text/plain": [
       "0    Darrell Lucus House Dem Aide: We Didn’t Even S...\n",
       "1    Daniel J. Flynn FLYNN: Hillary Clinton, Big Wo...\n",
       "2    Consortiumnews.com Why the Truth Might Get You...\n",
       "3    Jessica Purkiss 15 Civilians Killed In Single ...\n",
       "4    Howard Portnoy Iranian woman jailed for fictio...\n",
       "Name: content, dtype: object"
      ]
     },
     "execution_count": 70,
     "metadata": {},
     "output_type": "execute_result"
    }
   ],
   "source": [
    "df_train['content'].head()"
   ]
  },
  {
   "cell_type": "code",
   "execution_count": 71,
   "id": "66f7c803",
   "metadata": {
    "execution": {
     "iopub.execute_input": "2025-03-06T16:44:53.973424Z",
     "iopub.status.busy": "2025-03-06T16:44:53.973054Z",
     "iopub.status.idle": "2025-03-06T16:44:53.977999Z",
     "shell.execute_reply": "2025-03-06T16:44:53.977030Z"
    },
    "papermill": {
     "duration": 0.013267,
     "end_time": "2025-03-06T16:44:53.979525",
     "exception": false,
     "start_time": "2025-03-06T16:44:53.966258",
     "status": "completed"
    },
    "tags": []
   },
   "outputs": [],
   "source": [
    "port_stemmer = PorterStemmer()\n",
    "def stemming(content):\n",
    "    stemmed_content = re.sub('[^a-zA-Z]',' ',content)\n",
    "    stemmed_content = stemmed_content.lower()\n",
    "    stemmed_content = stemmed_content.split()\n",
    "    stemmed_content = [port_stemmer.stem(word) for word in stemmed_content if word not in stopwords.words('english')]\n",
    "    stemmed_content = ' '.join(stemmed_content)\n",
    "    return stemmed_content"
   ]
  },
  {
   "cell_type": "code",
   "execution_count": 72,
   "id": "fc0640f6",
   "metadata": {
    "execution": {
     "iopub.execute_input": "2025-03-06T16:44:53.992806Z",
     "iopub.status.busy": "2025-03-06T16:44:53.992460Z",
     "iopub.status.idle": "2025-03-06T16:45:36.235303Z",
     "shell.execute_reply": "2025-03-06T16:45:36.234110Z"
    },
    "papermill": {
     "duration": 42.257126,
     "end_time": "2025-03-06T16:45:36.242717",
     "exception": false,
     "start_time": "2025-03-06T16:44:53.985591",
     "status": "completed"
    },
    "tags": []
   },
   "outputs": [
    {
     "data": {
      "text/html": [
       "<div>\n",
       "<style scoped>\n",
       "    .dataframe tbody tr th:only-of-type {\n",
       "        vertical-align: middle;\n",
       "    }\n",
       "\n",
       "    .dataframe tbody tr th {\n",
       "        vertical-align: top;\n",
       "    }\n",
       "\n",
       "    .dataframe thead th {\n",
       "        text-align: right;\n",
       "    }\n",
       "</style>\n",
       "<table border=\"1\" class=\"dataframe\">\n",
       "  <thead>\n",
       "    <tr style=\"text-align: right;\">\n",
       "      <th></th>\n",
       "      <th>id</th>\n",
       "      <th>title</th>\n",
       "      <th>author</th>\n",
       "      <th>text</th>\n",
       "      <th>label</th>\n",
       "      <th>content</th>\n",
       "    </tr>\n",
       "  </thead>\n",
       "  <tbody>\n",
       "    <tr>\n",
       "      <th>0</th>\n",
       "      <td>0</td>\n",
       "      <td>House Dem Aide: We Didn’t Even See Comey’s Let...</td>\n",
       "      <td>Darrell Lucus</td>\n",
       "      <td>House Dem Aide: We Didn’t Even See Comey’s Let...</td>\n",
       "      <td>1</td>\n",
       "      <td>darrel lucu hous dem aid even see comey letter...</td>\n",
       "    </tr>\n",
       "    <tr>\n",
       "      <th>1</th>\n",
       "      <td>1</td>\n",
       "      <td>FLYNN: Hillary Clinton, Big Woman on Campus - ...</td>\n",
       "      <td>Daniel J. Flynn</td>\n",
       "      <td>Ever get the feeling your life circles the rou...</td>\n",
       "      <td>0</td>\n",
       "      <td>daniel j flynn flynn hillari clinton big woman...</td>\n",
       "    </tr>\n",
       "    <tr>\n",
       "      <th>2</th>\n",
       "      <td>2</td>\n",
       "      <td>Why the Truth Might Get You Fired</td>\n",
       "      <td>Consortiumnews.com</td>\n",
       "      <td>Why the Truth Might Get You Fired October 29, ...</td>\n",
       "      <td>1</td>\n",
       "      <td>consortiumnew com truth might get fire</td>\n",
       "    </tr>\n",
       "    <tr>\n",
       "      <th>3</th>\n",
       "      <td>3</td>\n",
       "      <td>15 Civilians Killed In Single US Airstrike Hav...</td>\n",
       "      <td>Jessica Purkiss</td>\n",
       "      <td>Videos 15 Civilians Killed In Single US Airstr...</td>\n",
       "      <td>1</td>\n",
       "      <td>jessica purkiss civilian kill singl us airstri...</td>\n",
       "    </tr>\n",
       "    <tr>\n",
       "      <th>4</th>\n",
       "      <td>4</td>\n",
       "      <td>Iranian woman jailed for fictional unpublished...</td>\n",
       "      <td>Howard Portnoy</td>\n",
       "      <td>Print \\nAn Iranian woman has been sentenced to...</td>\n",
       "      <td>1</td>\n",
       "      <td>howard portnoy iranian woman jail fiction unpu...</td>\n",
       "    </tr>\n",
       "  </tbody>\n",
       "</table>\n",
       "</div>"
      ],
      "text/plain": [
       "   id                                              title              author  \\\n",
       "0   0  House Dem Aide: We Didn’t Even See Comey’s Let...       Darrell Lucus   \n",
       "1   1  FLYNN: Hillary Clinton, Big Woman on Campus - ...     Daniel J. Flynn   \n",
       "2   2                  Why the Truth Might Get You Fired  Consortiumnews.com   \n",
       "3   3  15 Civilians Killed In Single US Airstrike Hav...     Jessica Purkiss   \n",
       "4   4  Iranian woman jailed for fictional unpublished...      Howard Portnoy   \n",
       "\n",
       "                                                text  label  \\\n",
       "0  House Dem Aide: We Didn’t Even See Comey’s Let...      1   \n",
       "1  Ever get the feeling your life circles the rou...      0   \n",
       "2  Why the Truth Might Get You Fired October 29, ...      1   \n",
       "3  Videos 15 Civilians Killed In Single US Airstr...      1   \n",
       "4  Print \\nAn Iranian woman has been sentenced to...      1   \n",
       "\n",
       "                                             content  \n",
       "0  darrel lucu hous dem aid even see comey letter...  \n",
       "1  daniel j flynn flynn hillari clinton big woman...  \n",
       "2             consortiumnew com truth might get fire  \n",
       "3  jessica purkiss civilian kill singl us airstri...  \n",
       "4  howard portnoy iranian woman jail fiction unpu...  "
      ]
     },
     "execution_count": 72,
     "metadata": {},
     "output_type": "execute_result"
    }
   ],
   "source": [
    "df_train['content'] = df_train['content'].apply(stemming)\n",
    "df_train.head()"
   ]
  },
  {
   "cell_type": "code",
   "execution_count": 73,
   "id": "bd2b6558",
   "metadata": {
    "execution": {
     "iopub.execute_input": "2025-03-06T16:45:36.257577Z",
     "iopub.status.busy": "2025-03-06T16:45:36.257152Z",
     "iopub.status.idle": "2025-03-06T16:45:46.692584Z",
     "shell.execute_reply": "2025-03-06T16:45:46.691531Z"
    },
    "papermill": {
     "duration": 10.444974,
     "end_time": "2025-03-06T16:45:46.694633",
     "exception": false,
     "start_time": "2025-03-06T16:45:36.249659",
     "status": "completed"
    },
    "tags": []
   },
   "outputs": [
    {
     "name": "stdout",
     "output_type": "stream",
     "text": [
      "                                             content\n",
      "0  david streitfeld specter trump loosen tongu pu...\n",
      "1  unknown russian warship readi strike terrorist...\n",
      "2  common dream nodapl nativ american leader vow ...\n",
      "3  daniel victor tim tebow attempt anoth comeback...\n",
      "4   truth broadcast network keiser report meme war e\n"
     ]
    }
   ],
   "source": [
    "# Apply the same stemming function\n",
    "df_test['content'] = df_test['content'].apply(stemming)\n",
    "print(df_test[['content']].head())  # Show first 5 rows\n"
   ]
  },
  {
   "cell_type": "code",
   "execution_count": 74,
   "id": "7a476c47",
   "metadata": {
    "execution": {
     "iopub.execute_input": "2025-03-06T16:45:46.710201Z",
     "iopub.status.busy": "2025-03-06T16:45:46.709867Z",
     "iopub.status.idle": "2025-03-06T16:45:47.019714Z",
     "shell.execute_reply": "2025-03-06T16:45:47.018781Z"
    },
    "papermill": {
     "duration": 0.319432,
     "end_time": "2025-03-06T16:45:47.021543",
     "exception": false,
     "start_time": "2025-03-06T16:45:46.702111",
     "status": "completed"
    },
    "tags": []
   },
   "outputs": [],
   "source": [
    "# Use full df_train\n",
    "vectorizer = TfidfVectorizer(max_features=10000)\n",
    "X = vectorizer.fit_transform(df_train['content'])\n",
    "Y = df_train['label']"
   ]
  },
  {
   "cell_type": "code",
   "execution_count": 75,
   "id": "cc1fd051",
   "metadata": {
    "execution": {
     "iopub.execute_input": "2025-03-06T16:45:47.036326Z",
     "iopub.status.busy": "2025-03-06T16:45:47.035985Z",
     "iopub.status.idle": "2025-03-06T16:45:47.043915Z",
     "shell.execute_reply": "2025-03-06T16:45:47.042463Z"
    },
    "papermill": {
     "duration": 0.017482,
     "end_time": "2025-03-06T16:45:47.045591",
     "exception": false,
     "start_time": "2025-03-06T16:45:47.028109",
     "status": "completed"
    },
    "tags": []
   },
   "outputs": [
    {
     "name": "stdout",
     "output_type": "stream",
     "text": [
      "<Compressed Sparse Row sparse matrix of dtype 'float64'\n",
      "\twith 205512 stored elements and shape (20800, 10000)>\n",
      "  Coords\tValues\n",
      "  (0, 2163)\t0.3598939188262559\n",
      "  (0, 5254)\t0.3635963806326075\n",
      "  (0, 4154)\t0.21874169089359144\n",
      "  (0, 2282)\t0.2705332480845492\n",
      "  (0, 177)\t0.27010124977708766\n",
      "  (0, 2988)\t0.233316966909351\n",
      "  (0, 7910)\t0.2565896679337957\n",
      "  (0, 1761)\t0.2468450128533713\n",
      "  (0, 5080)\t0.29212514087043684\n",
      "  (0, 4549)\t0.24785219520671603\n",
      "  (0, 1468)\t0.3676519686797209\n",
      "  (0, 9233)\t0.28485063562728646\n",
      "  (1, 2145)\t0.26373768806048464\n",
      "  (1, 3317)\t0.7143299355715573\n",
      "  (1, 4050)\t0.1904660198296849\n",
      "  (1, 1668)\t0.19094574062359204\n",
      "  (1, 885)\t0.2939891562094648\n",
      "  (1, 9817)\t0.30071745655510157\n",
      "  (1, 1318)\t0.3827320386859759\n",
      "  (1, 1126)\t0.15521974226349364\n",
      "  (2, 1863)\t0.46097489583229645\n",
      "  (2, 1752)\t0.3179886800654691\n",
      "  (2, 9189)\t0.41544962664721613\n",
      "  (2, 5651)\t0.49351492943649944\n",
      "  (2, 3598)\t0.3474613386728292\n",
      "  :\t:\n",
      "  (20797, 5632)\t0.17455348025522197\n",
      "  (20797, 4179)\t0.21799048897828685\n",
      "  (20797, 2187)\t0.2115550061362374\n",
      "  (20797, 4918)\t0.22322585870464115\n",
      "  (20797, 5595)\t0.29542040034203126\n",
      "  (20797, 7139)\t0.24778257724396505\n",
      "  (20797, 8799)\t0.3115945315488075\n",
      "  (20797, 7259)\t0.27263457663336677\n",
      "  (20797, 7720)\t0.24825263521976057\n",
      "  (20797, 760)\t0.3353805680413986\n",
      "  (20797, 425)\t0.3068584607976234\n",
      "  (20797, 37)\t0.2971024186070062\n",
      "  (20797, 5291)\t0.36160868928090795\n",
      "  (20798, 7677)\t0.22363267488270608\n",
      "  (20798, 5966)\t0.3192496370187028\n",
      "  (20798, 4084)\t0.32496285694299426\n",
      "  (20798, 6476)\t0.4460515589182236\n",
      "  (20798, 226)\t0.28446937819072576\n",
      "  (20798, 366)\t0.3112141524638974\n",
      "  (20798, 3024)\t0.4083701450239529\n",
      "  (20798, 673)\t0.4460515589182236\n",
      "  (20799, 4755)\t0.45983893273780013\n",
      "  (20799, 2175)\t0.37927626273066584\n",
      "  (20799, 8727)\t0.5677577267055112\n",
      "  (20799, 245)\t0.5677577267055112\n"
     ]
    }
   ],
   "source": [
    "print(X)"
   ]
  },
  {
   "cell_type": "code",
   "execution_count": 76,
   "id": "0ce338a7",
   "metadata": {
    "execution": {
     "iopub.execute_input": "2025-03-06T16:45:47.059881Z",
     "iopub.status.busy": "2025-03-06T16:45:47.059559Z",
     "iopub.status.idle": "2025-03-06T16:45:47.076613Z",
     "shell.execute_reply": "2025-03-06T16:45:47.075573Z"
    },
    "papermill": {
     "duration": 0.026266,
     "end_time": "2025-03-06T16:45:47.078471",
     "exception": false,
     "start_time": "2025-03-06T16:45:47.052205",
     "status": "completed"
    },
    "tags": []
   },
   "outputs": [],
   "source": [
    "X_train, X_test, Y_train, Y_test = train_test_split(X, Y, test_size=0.2, random_state=0,stratify=Y)"
   ]
  },
  {
   "cell_type": "code",
   "execution_count": 77,
   "id": "8251a481",
   "metadata": {
    "execution": {
     "iopub.execute_input": "2025-03-06T16:45:47.093178Z",
     "iopub.status.busy": "2025-03-06T16:45:47.092848Z",
     "iopub.status.idle": "2025-03-06T16:45:47.098720Z",
     "shell.execute_reply": "2025-03-06T16:45:47.097612Z"
    },
    "papermill": {
     "duration": 0.015121,
     "end_time": "2025-03-06T16:45:47.100386",
     "exception": false,
     "start_time": "2025-03-06T16:45:47.085265",
     "status": "completed"
    },
    "tags": []
   },
   "outputs": [
    {
     "data": {
      "text/plain": [
       "((20800, 10000), (16640, 10000), (4160, 10000))"
      ]
     },
     "execution_count": 77,
     "metadata": {},
     "output_type": "execute_result"
    }
   ],
   "source": [
    "X.shape, X_train.shape, X_test.shape"
   ]
  },
  {
   "cell_type": "code",
   "execution_count": 78,
   "id": "fe12f8cf",
   "metadata": {
    "execution": {
     "iopub.execute_input": "2025-03-06T16:45:47.115342Z",
     "iopub.status.busy": "2025-03-06T16:45:47.114963Z",
     "iopub.status.idle": "2025-03-06T16:45:47.287579Z",
     "shell.execute_reply": "2025-03-06T16:45:47.285077Z"
    },
    "papermill": {
     "duration": 0.182316,
     "end_time": "2025-03-06T16:45:47.289524",
     "exception": false,
     "start_time": "2025-03-06T16:45:47.107208",
     "status": "completed"
    },
    "tags": []
   },
   "outputs": [
    {
     "data": {
      "text/html": [
       "<style>#sk-container-id-3 {\n",
       "  /* Definition of color scheme common for light and dark mode */\n",
       "  --sklearn-color-text: #000;\n",
       "  --sklearn-color-text-muted: #666;\n",
       "  --sklearn-color-line: gray;\n",
       "  /* Definition of color scheme for unfitted estimators */\n",
       "  --sklearn-color-unfitted-level-0: #fff5e6;\n",
       "  --sklearn-color-unfitted-level-1: #f6e4d2;\n",
       "  --sklearn-color-unfitted-level-2: #ffe0b3;\n",
       "  --sklearn-color-unfitted-level-3: chocolate;\n",
       "  /* Definition of color scheme for fitted estimators */\n",
       "  --sklearn-color-fitted-level-0: #f0f8ff;\n",
       "  --sklearn-color-fitted-level-1: #d4ebff;\n",
       "  --sklearn-color-fitted-level-2: #b3dbfd;\n",
       "  --sklearn-color-fitted-level-3: cornflowerblue;\n",
       "\n",
       "  /* Specific color for light theme */\n",
       "  --sklearn-color-text-on-default-background: var(--sg-text-color, var(--theme-code-foreground, var(--jp-content-font-color1, black)));\n",
       "  --sklearn-color-background: var(--sg-background-color, var(--theme-background, var(--jp-layout-color0, white)));\n",
       "  --sklearn-color-border-box: var(--sg-text-color, var(--theme-code-foreground, var(--jp-content-font-color1, black)));\n",
       "  --sklearn-color-icon: #696969;\n",
       "\n",
       "  @media (prefers-color-scheme: dark) {\n",
       "    /* Redefinition of color scheme for dark theme */\n",
       "    --sklearn-color-text-on-default-background: var(--sg-text-color, var(--theme-code-foreground, var(--jp-content-font-color1, white)));\n",
       "    --sklearn-color-background: var(--sg-background-color, var(--theme-background, var(--jp-layout-color0, #111)));\n",
       "    --sklearn-color-border-box: var(--sg-text-color, var(--theme-code-foreground, var(--jp-content-font-color1, white)));\n",
       "    --sklearn-color-icon: #878787;\n",
       "  }\n",
       "}\n",
       "\n",
       "#sk-container-id-3 {\n",
       "  color: var(--sklearn-color-text);\n",
       "}\n",
       "\n",
       "#sk-container-id-3 pre {\n",
       "  padding: 0;\n",
       "}\n",
       "\n",
       "#sk-container-id-3 input.sk-hidden--visually {\n",
       "  border: 0;\n",
       "  clip: rect(1px 1px 1px 1px);\n",
       "  clip: rect(1px, 1px, 1px, 1px);\n",
       "  height: 1px;\n",
       "  margin: -1px;\n",
       "  overflow: hidden;\n",
       "  padding: 0;\n",
       "  position: absolute;\n",
       "  width: 1px;\n",
       "}\n",
       "\n",
       "#sk-container-id-3 div.sk-dashed-wrapped {\n",
       "  border: 1px dashed var(--sklearn-color-line);\n",
       "  margin: 0 0.4em 0.5em 0.4em;\n",
       "  box-sizing: border-box;\n",
       "  padding-bottom: 0.4em;\n",
       "  background-color: var(--sklearn-color-background);\n",
       "}\n",
       "\n",
       "#sk-container-id-3 div.sk-container {\n",
       "  /* jupyter's `normalize.less` sets `[hidden] { display: none; }`\n",
       "     but bootstrap.min.css set `[hidden] { display: none !important; }`\n",
       "     so we also need the `!important` here to be able to override the\n",
       "     default hidden behavior on the sphinx rendered scikit-learn.org.\n",
       "     See: https://github.com/scikit-learn/scikit-learn/issues/21755 */\n",
       "  display: inline-block !important;\n",
       "  position: relative;\n",
       "}\n",
       "\n",
       "#sk-container-id-3 div.sk-text-repr-fallback {\n",
       "  display: none;\n",
       "}\n",
       "\n",
       "div.sk-parallel-item,\n",
       "div.sk-serial,\n",
       "div.sk-item {\n",
       "  /* draw centered vertical line to link estimators */\n",
       "  background-image: linear-gradient(var(--sklearn-color-text-on-default-background), var(--sklearn-color-text-on-default-background));\n",
       "  background-size: 2px 100%;\n",
       "  background-repeat: no-repeat;\n",
       "  background-position: center center;\n",
       "}\n",
       "\n",
       "/* Parallel-specific style estimator block */\n",
       "\n",
       "#sk-container-id-3 div.sk-parallel-item::after {\n",
       "  content: \"\";\n",
       "  width: 100%;\n",
       "  border-bottom: 2px solid var(--sklearn-color-text-on-default-background);\n",
       "  flex-grow: 1;\n",
       "}\n",
       "\n",
       "#sk-container-id-3 div.sk-parallel {\n",
       "  display: flex;\n",
       "  align-items: stretch;\n",
       "  justify-content: center;\n",
       "  background-color: var(--sklearn-color-background);\n",
       "  position: relative;\n",
       "}\n",
       "\n",
       "#sk-container-id-3 div.sk-parallel-item {\n",
       "  display: flex;\n",
       "  flex-direction: column;\n",
       "}\n",
       "\n",
       "#sk-container-id-3 div.sk-parallel-item:first-child::after {\n",
       "  align-self: flex-end;\n",
       "  width: 50%;\n",
       "}\n",
       "\n",
       "#sk-container-id-3 div.sk-parallel-item:last-child::after {\n",
       "  align-self: flex-start;\n",
       "  width: 50%;\n",
       "}\n",
       "\n",
       "#sk-container-id-3 div.sk-parallel-item:only-child::after {\n",
       "  width: 0;\n",
       "}\n",
       "\n",
       "/* Serial-specific style estimator block */\n",
       "\n",
       "#sk-container-id-3 div.sk-serial {\n",
       "  display: flex;\n",
       "  flex-direction: column;\n",
       "  align-items: center;\n",
       "  background-color: var(--sklearn-color-background);\n",
       "  padding-right: 1em;\n",
       "  padding-left: 1em;\n",
       "}\n",
       "\n",
       "\n",
       "/* Toggleable style: style used for estimator/Pipeline/ColumnTransformer box that is\n",
       "clickable and can be expanded/collapsed.\n",
       "- Pipeline and ColumnTransformer use this feature and define the default style\n",
       "- Estimators will overwrite some part of the style using the `sk-estimator` class\n",
       "*/\n",
       "\n",
       "/* Pipeline and ColumnTransformer style (default) */\n",
       "\n",
       "#sk-container-id-3 div.sk-toggleable {\n",
       "  /* Default theme specific background. It is overwritten whether we have a\n",
       "  specific estimator or a Pipeline/ColumnTransformer */\n",
       "  background-color: var(--sklearn-color-background);\n",
       "}\n",
       "\n",
       "/* Toggleable label */\n",
       "#sk-container-id-3 label.sk-toggleable__label {\n",
       "  cursor: pointer;\n",
       "  display: flex;\n",
       "  width: 100%;\n",
       "  margin-bottom: 0;\n",
       "  padding: 0.5em;\n",
       "  box-sizing: border-box;\n",
       "  text-align: center;\n",
       "  align-items: start;\n",
       "  justify-content: space-between;\n",
       "  gap: 0.5em;\n",
       "}\n",
       "\n",
       "#sk-container-id-3 label.sk-toggleable__label .caption {\n",
       "  font-size: 0.6rem;\n",
       "  font-weight: lighter;\n",
       "  color: var(--sklearn-color-text-muted);\n",
       "}\n",
       "\n",
       "#sk-container-id-3 label.sk-toggleable__label-arrow:before {\n",
       "  /* Arrow on the left of the label */\n",
       "  content: \"▸\";\n",
       "  float: left;\n",
       "  margin-right: 0.25em;\n",
       "  color: var(--sklearn-color-icon);\n",
       "}\n",
       "\n",
       "#sk-container-id-3 label.sk-toggleable__label-arrow:hover:before {\n",
       "  color: var(--sklearn-color-text);\n",
       "}\n",
       "\n",
       "/* Toggleable content - dropdown */\n",
       "\n",
       "#sk-container-id-3 div.sk-toggleable__content {\n",
       "  max-height: 0;\n",
       "  max-width: 0;\n",
       "  overflow: hidden;\n",
       "  text-align: left;\n",
       "  /* unfitted */\n",
       "  background-color: var(--sklearn-color-unfitted-level-0);\n",
       "}\n",
       "\n",
       "#sk-container-id-3 div.sk-toggleable__content.fitted {\n",
       "  /* fitted */\n",
       "  background-color: var(--sklearn-color-fitted-level-0);\n",
       "}\n",
       "\n",
       "#sk-container-id-3 div.sk-toggleable__content pre {\n",
       "  margin: 0.2em;\n",
       "  border-radius: 0.25em;\n",
       "  color: var(--sklearn-color-text);\n",
       "  /* unfitted */\n",
       "  background-color: var(--sklearn-color-unfitted-level-0);\n",
       "}\n",
       "\n",
       "#sk-container-id-3 div.sk-toggleable__content.fitted pre {\n",
       "  /* unfitted */\n",
       "  background-color: var(--sklearn-color-fitted-level-0);\n",
       "}\n",
       "\n",
       "#sk-container-id-3 input.sk-toggleable__control:checked~div.sk-toggleable__content {\n",
       "  /* Expand drop-down */\n",
       "  max-height: 200px;\n",
       "  max-width: 100%;\n",
       "  overflow: auto;\n",
       "}\n",
       "\n",
       "#sk-container-id-3 input.sk-toggleable__control:checked~label.sk-toggleable__label-arrow:before {\n",
       "  content: \"▾\";\n",
       "}\n",
       "\n",
       "/* Pipeline/ColumnTransformer-specific style */\n",
       "\n",
       "#sk-container-id-3 div.sk-label input.sk-toggleable__control:checked~label.sk-toggleable__label {\n",
       "  color: var(--sklearn-color-text);\n",
       "  background-color: var(--sklearn-color-unfitted-level-2);\n",
       "}\n",
       "\n",
       "#sk-container-id-3 div.sk-label.fitted input.sk-toggleable__control:checked~label.sk-toggleable__label {\n",
       "  background-color: var(--sklearn-color-fitted-level-2);\n",
       "}\n",
       "\n",
       "/* Estimator-specific style */\n",
       "\n",
       "/* Colorize estimator box */\n",
       "#sk-container-id-3 div.sk-estimator input.sk-toggleable__control:checked~label.sk-toggleable__label {\n",
       "  /* unfitted */\n",
       "  background-color: var(--sklearn-color-unfitted-level-2);\n",
       "}\n",
       "\n",
       "#sk-container-id-3 div.sk-estimator.fitted input.sk-toggleable__control:checked~label.sk-toggleable__label {\n",
       "  /* fitted */\n",
       "  background-color: var(--sklearn-color-fitted-level-2);\n",
       "}\n",
       "\n",
       "#sk-container-id-3 div.sk-label label.sk-toggleable__label,\n",
       "#sk-container-id-3 div.sk-label label {\n",
       "  /* The background is the default theme color */\n",
       "  color: var(--sklearn-color-text-on-default-background);\n",
       "}\n",
       "\n",
       "/* On hover, darken the color of the background */\n",
       "#sk-container-id-3 div.sk-label:hover label.sk-toggleable__label {\n",
       "  color: var(--sklearn-color-text);\n",
       "  background-color: var(--sklearn-color-unfitted-level-2);\n",
       "}\n",
       "\n",
       "/* Label box, darken color on hover, fitted */\n",
       "#sk-container-id-3 div.sk-label.fitted:hover label.sk-toggleable__label.fitted {\n",
       "  color: var(--sklearn-color-text);\n",
       "  background-color: var(--sklearn-color-fitted-level-2);\n",
       "}\n",
       "\n",
       "/* Estimator label */\n",
       "\n",
       "#sk-container-id-3 div.sk-label label {\n",
       "  font-family: monospace;\n",
       "  font-weight: bold;\n",
       "  display: inline-block;\n",
       "  line-height: 1.2em;\n",
       "}\n",
       "\n",
       "#sk-container-id-3 div.sk-label-container {\n",
       "  text-align: center;\n",
       "}\n",
       "\n",
       "/* Estimator-specific */\n",
       "#sk-container-id-3 div.sk-estimator {\n",
       "  font-family: monospace;\n",
       "  border: 1px dotted var(--sklearn-color-border-box);\n",
       "  border-radius: 0.25em;\n",
       "  box-sizing: border-box;\n",
       "  margin-bottom: 0.5em;\n",
       "  /* unfitted */\n",
       "  background-color: var(--sklearn-color-unfitted-level-0);\n",
       "}\n",
       "\n",
       "#sk-container-id-3 div.sk-estimator.fitted {\n",
       "  /* fitted */\n",
       "  background-color: var(--sklearn-color-fitted-level-0);\n",
       "}\n",
       "\n",
       "/* on hover */\n",
       "#sk-container-id-3 div.sk-estimator:hover {\n",
       "  /* unfitted */\n",
       "  background-color: var(--sklearn-color-unfitted-level-2);\n",
       "}\n",
       "\n",
       "#sk-container-id-3 div.sk-estimator.fitted:hover {\n",
       "  /* fitted */\n",
       "  background-color: var(--sklearn-color-fitted-level-2);\n",
       "}\n",
       "\n",
       "/* Specification for estimator info (e.g. \"i\" and \"?\") */\n",
       "\n",
       "/* Common style for \"i\" and \"?\" */\n",
       "\n",
       ".sk-estimator-doc-link,\n",
       "a:link.sk-estimator-doc-link,\n",
       "a:visited.sk-estimator-doc-link {\n",
       "  float: right;\n",
       "  font-size: smaller;\n",
       "  line-height: 1em;\n",
       "  font-family: monospace;\n",
       "  background-color: var(--sklearn-color-background);\n",
       "  border-radius: 1em;\n",
       "  height: 1em;\n",
       "  width: 1em;\n",
       "  text-decoration: none !important;\n",
       "  margin-left: 0.5em;\n",
       "  text-align: center;\n",
       "  /* unfitted */\n",
       "  border: var(--sklearn-color-unfitted-level-1) 1pt solid;\n",
       "  color: var(--sklearn-color-unfitted-level-1);\n",
       "}\n",
       "\n",
       ".sk-estimator-doc-link.fitted,\n",
       "a:link.sk-estimator-doc-link.fitted,\n",
       "a:visited.sk-estimator-doc-link.fitted {\n",
       "  /* fitted */\n",
       "  border: var(--sklearn-color-fitted-level-1) 1pt solid;\n",
       "  color: var(--sklearn-color-fitted-level-1);\n",
       "}\n",
       "\n",
       "/* On hover */\n",
       "div.sk-estimator:hover .sk-estimator-doc-link:hover,\n",
       ".sk-estimator-doc-link:hover,\n",
       "div.sk-label-container:hover .sk-estimator-doc-link:hover,\n",
       ".sk-estimator-doc-link:hover {\n",
       "  /* unfitted */\n",
       "  background-color: var(--sklearn-color-unfitted-level-3);\n",
       "  color: var(--sklearn-color-background);\n",
       "  text-decoration: none;\n",
       "}\n",
       "\n",
       "div.sk-estimator.fitted:hover .sk-estimator-doc-link.fitted:hover,\n",
       ".sk-estimator-doc-link.fitted:hover,\n",
       "div.sk-label-container:hover .sk-estimator-doc-link.fitted:hover,\n",
       ".sk-estimator-doc-link.fitted:hover {\n",
       "  /* fitted */\n",
       "  background-color: var(--sklearn-color-fitted-level-3);\n",
       "  color: var(--sklearn-color-background);\n",
       "  text-decoration: none;\n",
       "}\n",
       "\n",
       "/* Span, style for the box shown on hovering the info icon */\n",
       ".sk-estimator-doc-link span {\n",
       "  display: none;\n",
       "  z-index: 9999;\n",
       "  position: relative;\n",
       "  font-weight: normal;\n",
       "  right: .2ex;\n",
       "  padding: .5ex;\n",
       "  margin: .5ex;\n",
       "  width: min-content;\n",
       "  min-width: 20ex;\n",
       "  max-width: 50ex;\n",
       "  color: var(--sklearn-color-text);\n",
       "  box-shadow: 2pt 2pt 4pt #999;\n",
       "  /* unfitted */\n",
       "  background: var(--sklearn-color-unfitted-level-0);\n",
       "  border: .5pt solid var(--sklearn-color-unfitted-level-3);\n",
       "}\n",
       "\n",
       ".sk-estimator-doc-link.fitted span {\n",
       "  /* fitted */\n",
       "  background: var(--sklearn-color-fitted-level-0);\n",
       "  border: var(--sklearn-color-fitted-level-3);\n",
       "}\n",
       "\n",
       ".sk-estimator-doc-link:hover span {\n",
       "  display: block;\n",
       "}\n",
       "\n",
       "/* \"?\"-specific style due to the `<a>` HTML tag */\n",
       "\n",
       "#sk-container-id-3 a.estimator_doc_link {\n",
       "  float: right;\n",
       "  font-size: 1rem;\n",
       "  line-height: 1em;\n",
       "  font-family: monospace;\n",
       "  background-color: var(--sklearn-color-background);\n",
       "  border-radius: 1rem;\n",
       "  height: 1rem;\n",
       "  width: 1rem;\n",
       "  text-decoration: none;\n",
       "  /* unfitted */\n",
       "  color: var(--sklearn-color-unfitted-level-1);\n",
       "  border: var(--sklearn-color-unfitted-level-1) 1pt solid;\n",
       "}\n",
       "\n",
       "#sk-container-id-3 a.estimator_doc_link.fitted {\n",
       "  /* fitted */\n",
       "  border: var(--sklearn-color-fitted-level-1) 1pt solid;\n",
       "  color: var(--sklearn-color-fitted-level-1);\n",
       "}\n",
       "\n",
       "/* On hover */\n",
       "#sk-container-id-3 a.estimator_doc_link:hover {\n",
       "  /* unfitted */\n",
       "  background-color: var(--sklearn-color-unfitted-level-3);\n",
       "  color: var(--sklearn-color-background);\n",
       "  text-decoration: none;\n",
       "}\n",
       "\n",
       "#sk-container-id-3 a.estimator_doc_link.fitted:hover {\n",
       "  /* fitted */\n",
       "  background-color: var(--sklearn-color-fitted-level-3);\n",
       "}\n",
       "</style><div id=\"sk-container-id-3\" class=\"sk-top-container\"><div class=\"sk-text-repr-fallback\"><pre>LogisticRegression()</pre><b>In a Jupyter environment, please rerun this cell to show the HTML representation or trust the notebook. <br />On GitHub, the HTML representation is unable to render, please try loading this page with nbviewer.org.</b></div><div class=\"sk-container\" hidden><div class=\"sk-item\"><div class=\"sk-estimator fitted sk-toggleable\"><input class=\"sk-toggleable__control sk-hidden--visually\" id=\"sk-estimator-id-3\" type=\"checkbox\" checked><label for=\"sk-estimator-id-3\" class=\"sk-toggleable__label fitted sk-toggleable__label-arrow\"><div><div>LogisticRegression</div></div><div><a class=\"sk-estimator-doc-link fitted\" rel=\"noreferrer\" target=\"_blank\" href=\"https://scikit-learn.org/1.6/modules/generated/sklearn.linear_model.LogisticRegression.html\">?<span>Documentation for LogisticRegression</span></a><span class=\"sk-estimator-doc-link fitted\">i<span>Fitted</span></span></div></label><div class=\"sk-toggleable__content fitted\"><pre>LogisticRegression()</pre></div> </div></div></div></div>"
      ],
      "text/plain": [
       "LogisticRegression()"
      ]
     },
     "execution_count": 78,
     "metadata": {},
     "output_type": "execute_result"
    }
   ],
   "source": [
    "model = LogisticRegression()\n",
    "model.fit(X_train, Y_train)"
   ]
  },
  {
   "cell_type": "code",
   "execution_count": 79,
   "id": "093967ce",
   "metadata": {
    "execution": {
     "iopub.execute_input": "2025-03-06T16:45:47.305107Z",
     "iopub.status.busy": "2025-03-06T16:45:47.304761Z",
     "iopub.status.idle": "2025-03-06T16:45:47.313643Z",
     "shell.execute_reply": "2025-03-06T16:45:47.312325Z"
    },
    "papermill": {
     "duration": 0.019389,
     "end_time": "2025-03-06T16:45:47.316058",
     "exception": false,
     "start_time": "2025-03-06T16:45:47.296669",
     "status": "completed"
    },
    "tags": []
   },
   "outputs": [
    {
     "name": "stdout",
     "output_type": "stream",
     "text": [
      "Accuracy score of training data :  0.9891826923076923\n"
     ]
    }
   ],
   "source": [
    "X_train_prediction = model.predict(X_train)\n",
    "training_data_accuracy = accuracy_score(X_train_prediction, Y_train)\n",
    "print('Accuracy score of training data : ', training_data_accuracy)"
   ]
  },
  {
   "cell_type": "code",
   "execution_count": 80,
   "id": "78b27c91",
   "metadata": {
    "execution": {
     "iopub.execute_input": "2025-03-06T16:45:47.333319Z",
     "iopub.status.busy": "2025-03-06T16:45:47.332905Z",
     "iopub.status.idle": "2025-03-06T16:45:47.340858Z",
     "shell.execute_reply": "2025-03-06T16:45:47.339773Z"
    },
    "papermill": {
     "duration": 0.018477,
     "end_time": "2025-03-06T16:45:47.342619",
     "exception": false,
     "start_time": "2025-03-06T16:45:47.324142",
     "status": "completed"
    },
    "tags": []
   },
   "outputs": [
    {
     "name": "stdout",
     "output_type": "stream",
     "text": [
      "Accuracy score of test data :  0.9798076923076923\n"
     ]
    }
   ],
   "source": [
    "X_test_prediction = model.predict(X_test)\n",
    "test_data_accuracy = accuracy_score(X_test_prediction, Y_test)\n",
    "print('Accuracy score of test data : ', test_data_accuracy)"
   ]
  },
  {
   "cell_type": "code",
   "execution_count": null,
   "id": "33a52ee1",
   "metadata": {
    "execution": {
     "iopub.execute_input": "2025-03-06T16:45:47.360099Z",
     "iopub.status.busy": "2025-03-06T16:45:47.359732Z",
     "iopub.status.idle": "2025-03-06T16:45:47.431264Z",
     "shell.execute_reply": "2025-03-06T16:45:47.429113Z"
    },
    "papermill": {
     "duration": 0.083568,
     "end_time": "2025-03-06T16:45:47.433674",
     "exception": false,
     "start_time": "2025-03-06T16:45:47.350106",
     "status": "completed"
    },
    "tags": []
   },
   "outputs": [
    {
     "data": {
      "image/png": "[encoded data removed]",
      "text/plain": [
       "<Figure size 600x600 with 1 Axes>"
      ]
     },
     "metadata": {},
     "output_type": "display_data"
    },
    {
     "data": {
      "image/png": "[encoded data removed]",
      "text/plain": [
       "<Figure size 600x400 with 1 Axes>"
      ]
     },
     "metadata": {},
     "output_type": "display_data"
    }
   ],
   "source": [
    "# Transform using the same vectorizer\n",
    "X_test = vectorizer.transform(df_test['content'])\n",
    "\n",
    "# Make predictions\n",
    "predictions = model.predict(X_test)\n",
    "\n",
    "import matplotlib.pyplot as plt\n",
    "\n",
    "# Count the predictions\n",
    "fake_count = (predictions == 0).sum()\n",
    "real_count = (predictions == 1).sum()\n",
    "\n",
    "# Plot the pie chart\n",
    "plt.figure(figsize=(6,6))\n",
    "plt.pie([fake_count, real_count], labels=[\"Fake News\", \"Real News\"], autopct=\"%1.1f%%\", colors=[\"Cyan\", \"yellow\"])\n",
    "plt.title(\"Fake vs. Real News Distribution\")\n",
    "plt.show()\n",
    "\n",
    "\n",
    "import seaborn as sns\n",
    "\n",
    "# Check if the model supports probability predictions\n",
    "if hasattr(model, \"predict_proba\"):\n",
    "    probabilities = model.predict_proba(X_test)[:, 1]  # Probability of being real news\n",
    "\n",
    "    # Plot the histogram\n",
    "    plt.figure(figsize=(6,4))\n",
    "    sns.histplot(probabilities, bins=20, kde=True, color=\"blue\")\n",
    "    plt.xlabel(\"Probability of Real News\")\n",
    "    plt.ylabel(\"Frequency\")\n",
    "    plt.title(\"Prediction Confidence Distribution\")\n",
    "    plt.show()\n",
    "else:\n",
    "    print(\"The model does not support probability predictions.\")\n"
   ]
  },
  {
   "cell_type": "code",
   "execution_count": 82,
   "id": "db849bf5",
   "metadata": {
    "execution": {
     "iopub.execute_input": "2025-03-06T16:45:47.449406Z",
     "iopub.status.busy": "2025-03-06T16:45:47.449038Z",
     "iopub.status.idle": "2025-03-06T16:45:48.251820Z",
     "shell.execute_reply": "2025-03-06T16:45:48.250465Z"
    },
    "papermill": {
     "duration": 0.812788,
     "end_time": "2025-03-06T16:45:48.253682",
     "exception": false,
     "start_time": "2025-03-06T16:45:47.440894",
     "status": "completed"
    },
    "tags": []
   },
   "outputs": [
    {
     "name": "stdout",
     "output_type": "stream",
     "text": [
      "Cross-validation scores: [0.98052885 0.97908654 0.98245192 0.97908654 0.97980769]\n",
      "Mean CV score: 0.9801923076923078\n"
     ]
    }
   ],
   "source": [
    "from sklearn.model_selection import cross_val_score\n",
    "scores = cross_val_score(model, X, Y, cv=5) \n",
    "print(\"Cross-validation scores:\", scores)\n",
    "print(\"Mean CV score:\", scores.mean())"
   ]
  },
  {
   "cell_type": "code",
   "execution_count": 83,
   "id": "421b9b06",
   "metadata": {
    "execution": {
     "iopub.execute_input": "2025-03-06T16:45:48.269848Z",
     "iopub.status.busy": "2025-03-06T16:45:48.269507Z",
     "iopub.status.idle": "2025-03-06T16:45:48.284599Z",
     "shell.execute_reply": "2025-03-06T16:45:48.283490Z"
    },
    "papermill": {
     "duration": 0.026135,
     "end_time": "2025-03-06T16:45:48.287281",
     "exception": false,
     "start_time": "2025-03-06T16:45:48.261146",
     "status": "completed"
    },
    "tags": []
   },
   "outputs": [],
   "source": [
    "# Save predictions to a CSV file\n",
    "submission = pd.DataFrame({'id': df_test['id'], 'label': predictions})\n",
    "submission.to_csv('submission.csv', index=False)"
   ]
  },
  {
   "cell_type": "code",
   "execution_count": null,
   "id": "151f46e8",
   "metadata": {
    "papermill": {
     "duration": 0.007399,
     "end_time": "2025-03-06T16:45:48.302299",
     "exception": false,
     "start_time": "2025-03-06T16:45:48.294900",
     "status": "completed"
    },
    "tags": []
   },
   "outputs": [],
   "source": []
  }
 ],
 "metadata": {
  "kaggle": {
   "accelerator": "none",
   "dataSources": [
    {
     "databundleVersionId": 109592,
     "sourceId": 8317,
     "sourceType": "competition"
    }
   ],
   "dockerImageVersionId": 30918,
   "isGpuEnabled": false,
   "isInternetEnabled": true,
   "language": "python",
   "sourceType": "notebook"
  },
  "kernelspec": {
   "display_name": "Python 3",
   "language": "python",
   "name": "python3"
  },
  "language_info": {
   "codemirror_mode": {
    "name": "ipython",
    "version": 3
   },
   "file_extension": ".py",
   "mimetype": "text/x-python",
   "name": "python",
   "nbconvert_exporter": "python",
   "pygments_lexer": "ipython3",
   "version": "3.12.0"
  },
  "papermill": {
   "default_parameters": {},
   "duration": 66.25305,
   "end_time": "2025-03-06T16:45:49.131502",
   "environment_variables": {},
   "exception": null,
   "input_path": "__notebook__.ipynb",
   "output_path": "__notebook__.ipynb",
   "parameters": {},
   "start_time": "2025-03-06T16:44:42.878452",
   "version": "2.6.0"
  }
 },
 "nbformat": 4,
 "nbformat_minor": 5
}
